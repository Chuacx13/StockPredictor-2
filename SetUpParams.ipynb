{
 "cells": [
  {
   "cell_type": "code",
   "execution_count": 2,
   "metadata": {},
   "outputs": [],
   "source": [
    "import yfinance as yf \n",
    "from datetime import datetime"
   ]
  },
  {
   "cell_type": "markdown",
   "metadata": {},
   "source": [
    "### Set Time Period and Target Stock"
   ]
  },
  {
   "cell_type": "code",
   "execution_count": 3,
   "metadata": {},
   "outputs": [
    {
     "name": "stdout",
     "output_type": "stream",
     "text": [
      "2024-08-11 15:12:59.559751\n",
      "2004-08-11 15:12:59.559751\n"
     ]
    }
   ],
   "source": [
    "target_stock = '^GSPC'\n",
    "today = datetime.today()\n",
    "# Start date set to 20 years ago\n",
    "start = today.replace(year=today.year-20)\n",
    "print(today)\n",
    "print(start)"
   ]
  },
  {
   "cell_type": "markdown",
   "metadata": {},
   "source": [
    "### Get information regarding other Stock Markets \n",
    "### Other Markets used for prediction:\n",
    "##### NASDAQ Composite (^IXIC), Dow Jones Industrial Average (^DJI), CAC 40 (^FCHI), DAX PERFORMANCE-INDEX (^GDAXI), ALL ORDINARIES (^AORD), HANG SENG INDEX (^HSI), Nikkei 225 (^N225)"
   ]
  },
  {
   "cell_type": "code",
   "execution_count": 4,
   "metadata": {},
   "outputs": [
    {
     "name": "stderr",
     "output_type": "stream",
     "text": [
      "[*********************100%%**********************]  1 of 1 completed\n",
      "[*********************100%%**********************]  1 of 1 completed\n",
      "[*********************100%%**********************]  1 of 1 completed\n",
      "[*********************100%%**********************]  1 of 1 completed\n",
      "[*********************100%%**********************]  1 of 1 completed\n",
      "[*********************100%%**********************]  1 of 1 completed\n",
      "[*********************100%%**********************]  1 of 1 completed\n",
      "[*********************100%%**********************]  1 of 1 completed\n",
      "[*********************100%%**********************]  1 of 1 completed\n"
     ]
    }
   ],
   "source": [
    "US_EU_list = [\"^GSPC\", \"^IXIC\", \"^DJI\", \"^FCHI\",\"^GDAXI\"]\n",
    "US_EU_market_dict = {}\n",
    "\n",
    "asia_list = [\"^AORD\", \"^HSI\", \"^N225\", \"^NSEI\"]\n",
    "asia_market_dict = {}\n",
    "\n",
    "for ticker in US_EU_list:\n",
    "    data = yf.download(ticker, start, today)\n",
    "    US_EU_market_dict[ticker] = data\n",
    "\n",
    "for ticker in asia_list:\n",
    "    data = yf.download(ticker, start, today)\n",
    "    asia_market_dict[ticker] = data\n",
    "\n",
    "target_stock_data = yf.download(target_stock, start, today)"
   ]
  }
 ],
 "metadata": {
  "kernelspec": {
   "display_name": "Python 3",
   "language": "python",
   "name": "python3"
  },
  "language_info": {
   "codemirror_mode": {
    "name": "ipython",
    "version": 3
   },
   "file_extension": ".py",
   "mimetype": "text/x-python",
   "name": "python",
   "nbconvert_exporter": "python",
   "pygments_lexer": "ipython3",
   "version": "3.12.2"
  }
 },
 "nbformat": 4,
 "nbformat_minor": 2
}
