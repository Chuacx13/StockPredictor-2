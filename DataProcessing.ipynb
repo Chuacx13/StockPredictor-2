{
 "cells": [
  {
   "cell_type": "code",
   "execution_count": 52,
   "metadata": {},
   "outputs": [
    {
     "name": "stdout",
     "output_type": "stream",
     "text": [
      "2024-08-15 02:37:39.483224\n",
      "2004-08-15 02:37:39.483224\n"
     ]
    },
    {
     "name": "stderr",
     "output_type": "stream",
     "text": [
      "[*********************100%%**********************]  1 of 1 completed\n",
      "[*********************100%%**********************]  1 of 1 completed\n",
      "[*********************100%%**********************]  1 of 1 completed\n",
      "[*********************100%%**********************]  1 of 1 completed\n",
      "[*********************100%%**********************]  1 of 1 completed\n",
      "[*********************100%%**********************]  1 of 1 completed\n",
      "[*********************100%%**********************]  1 of 1 completed\n",
      "[*********************100%%**********************]  1 of 1 completed\n",
      "[*********************100%%**********************]  1 of 1 completed\n"
     ]
    }
   ],
   "source": [
    "%run SetUpParams.ipynb"
   ]
  },
  {
   "cell_type": "code",
   "execution_count": 53,
   "metadata": {},
   "outputs": [],
   "source": [
    "import pandas as pd\n",
    "from sklearn.preprocessing import StandardScaler \n",
    "import torch "
   ]
  },
  {
   "cell_type": "markdown",
   "metadata": {},
   "source": [
    "### Create dataframe to feed into model"
   ]
  },
  {
   "cell_type": "code",
   "execution_count": 54,
   "metadata": {},
   "outputs": [
    {
     "name": "stdout",
     "output_type": "stream",
     "text": [
      "           Date  ^GSPC_change  ^GSPC_lag\n",
      "0    2004-08-16     14.539917        NaN\n",
      "1    2004-08-17      2.369995  14.539917\n",
      "2    2004-08-18     13.460083   2.369995\n",
      "3    2004-08-19     -3.940063  13.460083\n",
      "4    2004-08-20      7.119995  -3.940063\n",
      "...         ...           ...        ...\n",
      "5029 2024-08-08     62.090332 -40.560059\n",
      "5030 2024-08-09     37.219727  62.090332\n",
      "5031 2024-08-12     25.100098  37.219727\n",
      "5032 2024-08-13     65.379883  25.100098\n",
      "5033 2024-08-14           NaN  65.379883\n",
      "\n",
      "[5034 rows x 3 columns]\n"
     ]
    }
   ],
   "source": [
    "final_df = pd.DataFrame()\n",
    "# Next Day Open Price - Current Day Open Price\n",
    "final_df[f'{target_stock}_change'] = target_stock_data['Open'].shift(-1) - target_stock_data['Open']\n",
    "final_df[f'{target_stock}_lag'] = final_df[f'{target_stock}_change'].shift(1)\n",
    "final_df.reset_index(inplace=True)\n",
    "print(final_df)"
   ]
  },
  {
   "cell_type": "markdown",
   "metadata": {},
   "source": [
    "#### Add European and US Stock Market Price Changes to final_df\n",
    "Current Day Open Price - Previous Day Open Price"
   ]
  },
  {
   "cell_type": "code",
   "execution_count": 55,
   "metadata": {},
   "outputs": [
    {
     "name": "stdout",
     "output_type": "stream",
     "text": [
      "           Date  ^GSPC_change  ^GSPC_lag       ^IXIC        ^DJI      ^FCHI  \\\n",
      "0    2004-08-16     14.539917        NaN         NaN         NaN        NaN   \n",
      "1    2004-08-17      2.369995  14.539917   32.680054  130.150391  42.409912   \n",
      "2    2004-08-18     13.460083   2.369995   -4.599976    8.719727  15.120117   \n",
      "3    2004-08-19     -3.940063  13.460083   38.250000  118.560547  29.449951   \n",
      "4    2004-08-20      7.119995  -3.940063   -6.369995  -41.970703 -11.910156   \n",
      "...         ...           ...        ...         ...         ...        ...   \n",
      "5029 2024-08-08     62.090332 -40.560059 -214.041016 -289.710938  61.069824   \n",
      "5030 2024-08-09     37.219727  62.090332  228.250000  467.679688  36.690430   \n",
      "5031 2024-08-12     25.100098  37.219727  157.121094  147.953125  37.139648   \n",
      "5032 2024-08-13     65.379883  25.100098  151.099609 -110.742188 -19.139648   \n",
      "5033 2024-08-14           NaN  65.379883  282.859375  355.332031  52.459961   \n",
      "\n",
      "          ^GDAXI  \n",
      "0            NaN  \n",
      "1      53.129883  \n",
      "2       8.590088  \n",
      "3      25.070068  \n",
      "4     -13.270020  \n",
      "...          ...  \n",
      "5029   77.400391  \n",
      "5030  156.849609  \n",
      "5031  111.128906  \n",
      "5032   15.630859  \n",
      "5033    0.000000  \n",
      "\n",
      "[5034 rows x 7 columns]\n"
     ]
    }
   ],
   "source": [
    "# EU Stock Market has already opened\n",
    "for ticker in US_EU_market_dict.keys():\n",
    "        data = US_EU_market_dict[ticker]\n",
    "        # Current Day Open Price - Previous Day Open Price\n",
    "        temp = (data['Open'] - data['Open'].shift(1)).reset_index()\n",
    "        temp.rename(columns={'Open':ticker}, inplace=True)\n",
    "        final_df = final_df.merge(temp, on='Date', how='left')\n",
    "\n",
    "print(final_df)"
   ]
  },
  {
   "cell_type": "markdown",
   "metadata": {},
   "source": [
    "#### Add Asian Stock Market Price Changes to final_df\n",
    "Close Price - Open Price"
   ]
  },
  {
   "cell_type": "code",
   "execution_count": 56,
   "metadata": {},
   "outputs": [
    {
     "name": "stdout",
     "output_type": "stream",
     "text": [
      "           Date  ^GSPC_change  ^GSPC_lag       ^IXIC        ^DJI      ^FCHI  \\\n",
      "0    2004-08-16     14.539917        NaN         NaN         NaN        NaN   \n",
      "1    2004-08-17      2.369995  14.539917   32.680054  130.150391  42.409912   \n",
      "2    2004-08-18     13.460083   2.369995   -4.599976    8.719727  15.120117   \n",
      "3    2004-08-19     -3.940063  13.460083   38.250000  118.560547  29.449951   \n",
      "4    2004-08-20      7.119995  -3.940063   -6.369995  -41.970703 -11.910156   \n",
      "...         ...           ...        ...         ...         ...        ...   \n",
      "5029 2024-08-08     62.090332 -40.560059 -214.041016 -289.710938  61.069824   \n",
      "5030 2024-08-09     37.219727  62.090332  228.250000  467.679688  36.690430   \n",
      "5031 2024-08-12     25.100098  37.219727  157.121094  147.953125  37.139648   \n",
      "5032 2024-08-13     65.379883  25.100098  151.099609 -110.742188 -19.139648   \n",
      "5033 2024-08-14           NaN  65.379883  282.859375  355.332031  52.459961   \n",
      "\n",
      "          ^GDAXI       ^AORD        ^HSI       ^N225       ^NSEI  \n",
      "0            NaN  -10.500000 -101.019531  -41.170898         NaN  \n",
      "1      53.129883    8.399902  -22.570312  -46.270508         NaN  \n",
      "2       8.590088   -7.399902   19.020508   49.439453         NaN  \n",
      "3      25.070068    8.000000  100.089844   41.610352         NaN  \n",
      "4     -13.270020    5.699951   18.340820   30.059570         NaN  \n",
      "...          ...         ...         ...         ...         ...  \n",
      "5029   77.400391  -26.600098  118.791016  185.359375 -131.550781  \n",
      "5030  156.849609  104.200195   -7.128906 -247.339844  -19.349609  \n",
      "5031  111.128906   37.799805    8.669922         NaN   26.949219  \n",
      "5032   15.630859   13.700195   13.849609  741.933594 -203.349609  \n",
      "5033    0.000000   28.000000 -120.320312  -93.171875  -40.650391  \n",
      "\n",
      "[5034 rows x 11 columns]\n"
     ]
    }
   ],
   "source": [
    "# Asian Stock Market has already closed; one day ahead of US Stock Market\n",
    "for ticker in asia_market_dict.keys():\n",
    "        data = asia_market_dict[ticker]\n",
    "        # Close Price - Open Price\n",
    "        temp = (data['Close'] - data['Open']).reset_index()\n",
    "        temp.rename(columns={0:ticker}, inplace=True)\n",
    "        final_df = final_df.merge(temp, on='Date', how='left')\n",
    "\n",
    "print(final_df)"
   ]
  },
  {
   "cell_type": "code",
   "execution_count": 57,
   "metadata": {},
   "outputs": [
    {
     "data": {
      "text/html": [
       "<div>\n",
       "<style scoped>\n",
       "    .dataframe tbody tr th:only-of-type {\n",
       "        vertical-align: middle;\n",
       "    }\n",
       "\n",
       "    .dataframe tbody tr th {\n",
       "        vertical-align: top;\n",
       "    }\n",
       "\n",
       "    .dataframe thead th {\n",
       "        text-align: right;\n",
       "    }\n",
       "</style>\n",
       "<table border=\"1\" class=\"dataframe\">\n",
       "  <thead>\n",
       "    <tr style=\"text-align: right;\">\n",
       "      <th></th>\n",
       "      <th>Date</th>\n",
       "      <th>^GSPC_change</th>\n",
       "      <th>^GSPC_lag</th>\n",
       "      <th>^IXIC</th>\n",
       "      <th>^DJI</th>\n",
       "      <th>^FCHI</th>\n",
       "      <th>^GDAXI</th>\n",
       "      <th>^AORD</th>\n",
       "      <th>^HSI</th>\n",
       "      <th>^N225</th>\n",
       "      <th>^NSEI</th>\n",
       "    </tr>\n",
       "  </thead>\n",
       "  <tbody>\n",
       "    <tr>\n",
       "      <th>0</th>\n",
       "      <td>2007-09-17</td>\n",
       "      <td>-7.609985</td>\n",
       "      <td>0.290039</td>\n",
       "      <td>11.890137</td>\n",
       "      <td>20.560547</td>\n",
       "      <td>-16.479980</td>\n",
       "      <td>-17.530273</td>\n",
       "      <td>-23.299805</td>\n",
       "      <td>-378.080078</td>\n",
       "      <td>232.370117</td>\n",
       "      <td>-23.800293</td>\n",
       "    </tr>\n",
       "    <tr>\n",
       "      <th>1</th>\n",
       "      <td>2007-09-18</td>\n",
       "      <td>43.119995</td>\n",
       "      <td>-7.609985</td>\n",
       "      <td>-1.080078</td>\n",
       "      <td>-38.770508</td>\n",
       "      <td>-104.929688</td>\n",
       "      <td>-37.049805</td>\n",
       "      <td>-66.500000</td>\n",
       "      <td>73.019531</td>\n",
       "      <td>-235.690430</td>\n",
       "      <td>52.100098</td>\n",
       "    </tr>\n",
       "    <tr>\n",
       "      <th>2</th>\n",
       "      <td>2007-09-19</td>\n",
       "      <td>8.939941</td>\n",
       "      <td>43.119995</td>\n",
       "      <td>72.929932</td>\n",
       "      <td>337.430664</td>\n",
       "      <td>264.319824</td>\n",
       "      <td>169.069824</td>\n",
       "      <td>113.100098</td>\n",
       "      <td>43.281250</td>\n",
       "      <td>343.419922</td>\n",
       "      <td>182.100098</td>\n",
       "    </tr>\n",
       "    <tr>\n",
       "      <th>3</th>\n",
       "      <td>2007-09-20</td>\n",
       "      <td>-9.939941</td>\n",
       "      <td>8.939941</td>\n",
       "      <td>-6.309814</td>\n",
       "      <td>72.909180</td>\n",
       "      <td>2.810059</td>\n",
       "      <td>99.669922</td>\n",
       "      <td>14.299805</td>\n",
       "      <td>62.820312</td>\n",
       "      <td>-60.871094</td>\n",
       "      <td>12.699707</td>\n",
       "    </tr>\n",
       "    <tr>\n",
       "      <th>4</th>\n",
       "      <td>2007-09-21</td>\n",
       "      <td>7.000000</td>\n",
       "      <td>-9.939941</td>\n",
       "      <td>11.169922</td>\n",
       "      <td>-45.189453</td>\n",
       "      <td>-18.060059</td>\n",
       "      <td>-5.809570</td>\n",
       "      <td>-22.099609</td>\n",
       "      <td>183.818359</td>\n",
       "      <td>28.180664</td>\n",
       "      <td>84.599609</td>\n",
       "    </tr>\n",
       "    <tr>\n",
       "      <th>...</th>\n",
       "      <td>...</td>\n",
       "      <td>...</td>\n",
       "      <td>...</td>\n",
       "      <td>...</td>\n",
       "      <td>...</td>\n",
       "      <td>...</td>\n",
       "      <td>...</td>\n",
       "      <td>...</td>\n",
       "      <td>...</td>\n",
       "      <td>...</td>\n",
       "      <td>...</td>\n",
       "    </tr>\n",
       "    <tr>\n",
       "      <th>4252</th>\n",
       "      <td>2024-08-08</td>\n",
       "      <td>62.090332</td>\n",
       "      <td>-40.560059</td>\n",
       "      <td>-214.041016</td>\n",
       "      <td>-289.710938</td>\n",
       "      <td>61.069824</td>\n",
       "      <td>77.400391</td>\n",
       "      <td>-26.600098</td>\n",
       "      <td>118.791016</td>\n",
       "      <td>185.359375</td>\n",
       "      <td>-131.550781</td>\n",
       "    </tr>\n",
       "    <tr>\n",
       "      <th>4253</th>\n",
       "      <td>2024-08-09</td>\n",
       "      <td>37.219727</td>\n",
       "      <td>62.090332</td>\n",
       "      <td>228.250000</td>\n",
       "      <td>467.679688</td>\n",
       "      <td>36.690430</td>\n",
       "      <td>156.849609</td>\n",
       "      <td>104.200195</td>\n",
       "      <td>-7.128906</td>\n",
       "      <td>-247.339844</td>\n",
       "      <td>-19.349609</td>\n",
       "    </tr>\n",
       "    <tr>\n",
       "      <th>4254</th>\n",
       "      <td>2024-08-12</td>\n",
       "      <td>25.100098</td>\n",
       "      <td>37.219727</td>\n",
       "      <td>157.121094</td>\n",
       "      <td>147.953125</td>\n",
       "      <td>37.139648</td>\n",
       "      <td>111.128906</td>\n",
       "      <td>37.799805</td>\n",
       "      <td>8.669922</td>\n",
       "      <td>-247.339844</td>\n",
       "      <td>26.949219</td>\n",
       "    </tr>\n",
       "    <tr>\n",
       "      <th>4255</th>\n",
       "      <td>2024-08-13</td>\n",
       "      <td>65.379883</td>\n",
       "      <td>25.100098</td>\n",
       "      <td>151.099609</td>\n",
       "      <td>-110.742188</td>\n",
       "      <td>-19.139648</td>\n",
       "      <td>15.630859</td>\n",
       "      <td>13.700195</td>\n",
       "      <td>13.849609</td>\n",
       "      <td>741.933594</td>\n",
       "      <td>-203.349609</td>\n",
       "    </tr>\n",
       "    <tr>\n",
       "      <th>4256</th>\n",
       "      <td>2024-08-14</td>\n",
       "      <td>65.379883</td>\n",
       "      <td>65.379883</td>\n",
       "      <td>282.859375</td>\n",
       "      <td>355.332031</td>\n",
       "      <td>52.459961</td>\n",
       "      <td>0.000000</td>\n",
       "      <td>28.000000</td>\n",
       "      <td>-120.320312</td>\n",
       "      <td>-93.171875</td>\n",
       "      <td>-40.650391</td>\n",
       "    </tr>\n",
       "  </tbody>\n",
       "</table>\n",
       "<p>4257 rows × 11 columns</p>\n",
       "</div>"
      ],
      "text/plain": [
       "           Date  ^GSPC_change  ^GSPC_lag       ^IXIC        ^DJI       ^FCHI  \\\n",
       "0    2007-09-17     -7.609985   0.290039   11.890137   20.560547  -16.479980   \n",
       "1    2007-09-18     43.119995  -7.609985   -1.080078  -38.770508 -104.929688   \n",
       "2    2007-09-19      8.939941  43.119995   72.929932  337.430664  264.319824   \n",
       "3    2007-09-20     -9.939941   8.939941   -6.309814   72.909180    2.810059   \n",
       "4    2007-09-21      7.000000  -9.939941   11.169922  -45.189453  -18.060059   \n",
       "...         ...           ...        ...         ...         ...         ...   \n",
       "4252 2024-08-08     62.090332 -40.560059 -214.041016 -289.710938   61.069824   \n",
       "4253 2024-08-09     37.219727  62.090332  228.250000  467.679688   36.690430   \n",
       "4254 2024-08-12     25.100098  37.219727  157.121094  147.953125   37.139648   \n",
       "4255 2024-08-13     65.379883  25.100098  151.099609 -110.742188  -19.139648   \n",
       "4256 2024-08-14     65.379883  65.379883  282.859375  355.332031   52.459961   \n",
       "\n",
       "          ^GDAXI       ^AORD        ^HSI       ^N225       ^NSEI  \n",
       "0     -17.530273  -23.299805 -378.080078  232.370117  -23.800293  \n",
       "1     -37.049805  -66.500000   73.019531 -235.690430   52.100098  \n",
       "2     169.069824  113.100098   43.281250  343.419922  182.100098  \n",
       "3      99.669922   14.299805   62.820312  -60.871094   12.699707  \n",
       "4      -5.809570  -22.099609  183.818359   28.180664   84.599609  \n",
       "...          ...         ...         ...         ...         ...  \n",
       "4252   77.400391  -26.600098  118.791016  185.359375 -131.550781  \n",
       "4253  156.849609  104.200195   -7.128906 -247.339844  -19.349609  \n",
       "4254  111.128906   37.799805    8.669922 -247.339844   26.949219  \n",
       "4255   15.630859   13.700195   13.849609  741.933594 -203.349609  \n",
       "4256    0.000000   28.000000 -120.320312  -93.171875  -40.650391  \n",
       "\n",
       "[4257 rows x 11 columns]"
      ]
     },
     "execution_count": 57,
     "metadata": {},
     "output_type": "execute_result"
    }
   ],
   "source": [
    "# Different markets has different holidays\n",
    "# Forward fill null values\n",
    "final_df.ffill(inplace=True)\n",
    "final_df.dropna(inplace=True, ignore_index=True)\n",
    "# final_df.isna().sum()\n",
    "final_df"
   ]
  },
  {
   "cell_type": "markdown",
   "metadata": {},
   "source": [
    "### Prepare Sequences"
   ]
  },
  {
   "cell_type": "code",
   "execution_count": 58,
   "metadata": {},
   "outputs": [],
   "source": [
    "input_df = final_df.copy().drop(columns=[f'{target_stock}_change', 'Date'])"
   ]
  },
  {
   "cell_type": "code",
   "execution_count": 59,
   "metadata": {},
   "outputs": [
    {
     "name": "stdout",
     "output_type": "stream",
     "text": [
      "(3406, 9)\n",
      "(791, 9)\n",
      "(3406, 1)\n",
      "(791, 1)\n"
     ]
    }
   ],
   "source": [
    "# Train-Test Split\n",
    "proportion_test = 0.8\n",
    "gap = 60\n",
    "\n",
    "output_df = final_df[f'{target_stock}_change'].to_frame()\n",
    "\n",
    "train_index = round(len(input_df) * proportion_test)\n",
    "test_index = train_index + gap\n",
    "\n",
    "X_train = input_df.iloc[:train_index]\n",
    "X_test = input_df.iloc[test_index:]\n",
    "\n",
    "y_train = output_df.iloc[:train_index]\n",
    "y_test = output_df.iloc[test_index:]\n",
    "\n",
    "print(X_train.shape)\n",
    "print(X_test.shape)\n",
    "print(y_train.shape)\n",
    "print(y_test.shape)"
   ]
  },
  {
   "cell_type": "code",
   "execution_count": 60,
   "metadata": {},
   "outputs": [
    {
     "name": "stdout",
     "output_type": "stream",
     "text": [
      "      ^GSPC_lag     ^IXIC      ^DJI     ^FCHI    ^GDAXI     ^AORD      ^HSI  \\\n",
      "0     -0.020091  0.120217  0.077882 -0.279588 -0.162336 -0.449984 -1.572381   \n",
      "1     -0.394124 -0.056315 -0.232118 -1.761201 -0.325087 -1.267340  0.373283   \n",
      "2      2.007731  0.951006  1.733507  4.424063  1.393503  2.130730  0.245017   \n",
      "3      0.389447 -0.127495  0.351400  0.043538  0.814859  0.261408  0.329293   \n",
      "4     -0.504438  0.110415 -0.265657 -0.306056 -0.064611 -0.427276  0.851176   \n",
      "...         ...       ...       ...       ...       ...       ...       ...   \n",
      "3401   0.124317  2.120837 -1.369944 -1.013274 -1.234244  0.660627  0.421722   \n",
      "3402   0.966128  1.355506  0.439025 -0.297345  0.241470 -0.168075 -2.144127   \n",
      "3403  -0.870432 -1.296369 -1.182265 -0.701542 -0.337097  0.507371 -2.181698   \n",
      "3404  -1.955585 -6.093708 -0.677804  0.153924  0.040695  0.155463  1.229487   \n",
      "3405   1.754906  2.019714  1.716939  1.138710  1.352812  0.757121  1.321142   \n",
      "\n",
      "         ^N225     ^NSEI  \n",
      "0     1.468232 -0.223839  \n",
      "1    -1.445272  0.703845  \n",
      "2     2.159476  2.292756  \n",
      "3    -0.357086  0.222278  \n",
      "4     0.197228  1.101067  \n",
      "...        ...       ...  \n",
      "3401 -1.658520  0.068287  \n",
      "3402 -2.378218  0.631734  \n",
      "3403 -2.219247 -1.925801  \n",
      "3404  1.718342 -2.939651  \n",
      "3405  0.695193  0.079280  \n",
      "\n",
      "[3406 rows x 9 columns]\n",
      "     ^GSPC_lag     ^IXIC      ^DJI     ^FCHI    ^GDAXI     ^AORD      ^HSI  \\\n",
      "0     0.527419  0.614642  0.234403  0.087430  0.535185 -0.643652  1.548751   \n",
      "1     0.140535  0.456396 -0.075720 -0.549652 -0.922300 -0.199854  0.126817   \n",
      "2     0.363628  0.201025  1.323524  0.824626  0.344590  0.644323  1.277591   \n",
      "3     0.203256  0.066414  0.316613 -0.348487 -0.096975 -0.088907 -0.366784   \n",
      "4     0.154447  0.443672 -0.330987 -0.647213 -0.039745 -0.116237 -1.222102   \n",
      "..         ...       ...       ...       ...       ...       ...       ...   \n",
      "786  -0.960359 -1.105417 -1.017226  0.817362  0.476524 -0.418538  0.563005   \n",
      "787   1.381262  1.137867  1.575048  0.489760  0.974486  1.684674  0.023422   \n",
      "788   0.813924  0.777104  0.480739  0.495796  0.687923  0.616985  0.091122   \n",
      "789   0.537455  0.746563 -0.404681 -0.260466  0.089372  0.229473  0.113318   \n",
      "790   1.456302  1.414844  1.190522  0.701666 -0.008597  0.459408 -0.461617   \n",
      "\n",
      "        ^N225     ^NSEI  \n",
      "0   -0.054061 -1.246090  \n",
      "1    0.202198  0.449959  \n",
      "2   -0.254789  0.211842  \n",
      "3   -0.232775 -0.689133  \n",
      "4   -0.403263 -0.381033  \n",
      "..        ...       ...  \n",
      "786  0.616445 -0.917999  \n",
      "787 -0.853382 -0.087000  \n",
      "788 -0.853382  0.255904  \n",
      "789  2.507061 -1.449764  \n",
      "790 -0.329692 -0.244761  \n",
      "\n",
      "[791 rows x 9 columns]\n"
     ]
    }
   ],
   "source": [
    "# Scaling inputs using Normalisation\n",
    "scaler = StandardScaler()\n",
    "X_scaled_train_temp = scaler.fit_transform(X_train)\n",
    "X_scaled_train = pd.DataFrame(X_scaled_train_temp, columns = input_df.columns)\n",
    "\n",
    "X_scaled_test_temp = scaler.fit_transform(X_test)\n",
    "X_scaled_test = pd.DataFrame(X_scaled_test_temp, columns = input_df.columns)\n",
    "print(X_scaled_train)\n",
    "print(X_scaled_test)"
   ]
  },
  {
   "cell_type": "code",
   "execution_count": 61,
   "metadata": {},
   "outputs": [],
   "source": [
    "def create_sequences(X_data, y_data, time_step = 10):\n",
    "    X, y = [], []\n",
    "    for i in range(len(X_data) - time_step):\n",
    "        X.append(X_data.iloc[i:i + time_step, :].values)\n",
    "        y.append(y_data.iloc[i+time_step, :].values)\n",
    "    return torch.tensor(X, dtype=torch.float32), torch.tensor(y, dtype=torch.float32)"
   ]
  },
  {
   "cell_type": "code",
   "execution_count": 62,
   "metadata": {},
   "outputs": [],
   "source": [
    "X_train_seq, y_train_seq = create_sequences(X_scaled_train, y_train)\n",
    "X_test_seq, y_test_seq = create_sequences(X_scaled_test, y_test)"
   ]
  },
  {
   "cell_type": "code",
   "execution_count": 63,
   "metadata": {},
   "outputs": [
    {
     "name": "stdout",
     "output_type": "stream",
     "text": [
      "torch.Size([3396, 10, 9])\n",
      "torch.Size([3396, 1])\n",
      "torch.Size([781, 10, 9])\n",
      "torch.Size([781, 1])\n"
     ]
    }
   ],
   "source": [
    "# Shape of Tensor = (Number of Sequences, Time Steps, Number of Features)\n",
    "print(X_train_seq.shape)\n",
    "print(y_train_seq.shape)\n",
    "print(X_test_seq.shape)\n",
    "print(y_test_seq.shape)"
   ]
  }
 ],
 "metadata": {
  "kernelspec": {
   "display_name": "Python 3",
   "language": "python",
   "name": "python3"
  },
  "language_info": {
   "codemirror_mode": {
    "name": "ipython",
    "version": 3
   },
   "file_extension": ".py",
   "mimetype": "text/x-python",
   "name": "python",
   "nbconvert_exporter": "python",
   "pygments_lexer": "ipython3",
   "version": "3.12.2"
  }
 },
 "nbformat": 4,
 "nbformat_minor": 2
}
