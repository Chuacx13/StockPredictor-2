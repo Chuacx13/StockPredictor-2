{
 "cells": [
  {
   "cell_type": "code",
   "execution_count": 71,
   "metadata": {},
   "outputs": [
    {
     "name": "stdout",
     "output_type": "stream",
     "text": [
      "2024-08-12 01:59:21.668766\n",
      "2004-08-12 01:59:21.668766\n"
     ]
    },
    {
     "name": "stderr",
     "output_type": "stream",
     "text": [
      "[*********************100%%**********************]  1 of 1 completed\n",
      "[*********************100%%**********************]  1 of 1 completed\n",
      "[*********************100%%**********************]  1 of 1 completed\n",
      "[*********************100%%**********************]  1 of 1 completed\n",
      "[*********************100%%**********************]  1 of 1 completed\n",
      "[*********************100%%**********************]  1 of 1 completed\n",
      "[*********************100%%**********************]  1 of 1 completed\n",
      "[*********************100%%**********************]  1 of 1 completed\n",
      "[*********************100%%**********************]  1 of 1 completed\n",
      "[*********************100%%**********************]  1 of 1 completed\n"
     ]
    }
   ],
   "source": [
    "%run SetUpParams.ipynb"
   ]
  },
  {
   "cell_type": "code",
   "execution_count": 72,
   "metadata": {},
   "outputs": [],
   "source": [
    "import pandas as pd \n",
    "import numpy as np"
   ]
  },
  {
   "cell_type": "markdown",
   "metadata": {},
   "source": [
    "### Create dataframe to feed into model"
   ]
  },
  {
   "cell_type": "code",
   "execution_count": 73,
   "metadata": {},
   "outputs": [
    {
     "name": "stdout",
     "output_type": "stream",
     "text": [
      "           Date  ^GSPC_change   ^GSPC_lag        Close        Price\n",
      "0    2004-08-12    -12.560059         NaN  1063.229980  1075.790039\n",
      "1    2004-08-13      1.570068  -12.560059  1064.800049  1063.229980\n",
      "2    2004-08-16     14.539917    1.570068  1079.339966  1064.800049\n",
      "3    2004-08-17      2.369995   14.539917  1081.709961  1079.339966\n",
      "4    2004-08-18     13.460083    2.369995  1095.170044  1081.709961\n",
      "...         ...           ...         ...          ...          ...\n",
      "5028 2024-08-05     55.279785 -225.489746  5186.330078  5151.140137\n",
      "5029 2024-08-06     86.709961   55.279785  5240.029785  5206.419922\n",
      "5030 2024-08-07    -40.560059   86.709961  5199.500000  5293.129883\n",
      "5031 2024-08-08     62.090332  -40.560059  5319.310059  5252.569824\n",
      "5032 2024-08-09           NaN   62.090332  5344.160156  5314.660156\n",
      "\n",
      "[5033 rows x 5 columns]\n"
     ]
    }
   ],
   "source": [
    "final_df = pd.DataFrame()\n",
    "# Next Day Open Price - Current Day Open Price\n",
    "final_df[f'{target_stock}_change'] = target_stock_data['Open'].shift(-1) - target_stock_data['Open']\n",
    "final_df[f'{target_stock}_lag'] = final_df[f'{target_stock}_change'].shift(1)\n",
    "final_df['Close'] = target_stock_data['Close']\n",
    "final_df['Price'] = target_stock_data['Open']\n",
    "final_df.reset_index(inplace=True)\n",
    "print(final_df)"
   ]
  },
  {
   "cell_type": "markdown",
   "metadata": {},
   "source": [
    "#### Add European and US Stock Market Price Changes to final_df\n",
    "Current Day Open Price - Previous Day Open Price"
   ]
  },
  {
   "cell_type": "code",
   "execution_count": 74,
   "metadata": {},
   "outputs": [
    {
     "name": "stdout",
     "output_type": "stream",
     "text": [
      "           Date  ^GSPC_change   ^GSPC_lag        Close        Price  \\\n",
      "0    2004-08-12    -12.560059         NaN  1063.229980  1075.790039   \n",
      "1    2004-08-13      1.570068  -12.560059  1064.800049  1063.229980   \n",
      "2    2004-08-16     14.539917    1.570068  1079.339966  1064.800049   \n",
      "3    2004-08-17      2.369995   14.539917  1081.709961  1079.339966   \n",
      "4    2004-08-18     13.460083    2.369995  1095.170044  1081.709961   \n",
      "...         ...           ...         ...          ...          ...   \n",
      "5028 2024-08-05     55.279785 -225.489746  5186.330078  5151.140137   \n",
      "5029 2024-08-06     86.709961   55.279785  5240.029785  5206.419922   \n",
      "5030 2024-08-07    -40.560059   86.709961  5199.500000  5293.129883   \n",
      "5031 2024-08-08     62.090332  -40.560059  5319.310059  5252.569824   \n",
      "5032 2024-08-09           NaN   62.090332  5344.160156  5314.660156   \n",
      "\n",
      "           ^GSPC        ^IXIC         ^DJI       ^FCHI      ^GDAXI  \n",
      "0            NaN          NaN          NaN         NaN         NaN  \n",
      "1     -12.560059    -8.220093  -122.370117  -46.359863  -34.770020  \n",
      "2       1.570068    -2.880005    11.239258    3.310059   -5.809814  \n",
      "3      14.539917    32.680054   130.150391   42.409912   53.129883  \n",
      "4       2.369995    -4.599976     8.719727   15.120117    8.590088  \n",
      "...          ...          ...          ...         ...         ...  \n",
      "5028 -225.489746 -1067.918945 -1019.136719 -231.010254 -359.269531  \n",
      "5029   55.279785   548.830078  -319.972656   60.479980 -103.019531  \n",
      "5030   86.709961   360.950195   493.871094    1.870117   16.080078  \n",
      "5031  -40.560059  -214.041016  -289.710938   61.069824   77.400391  \n",
      "5032   62.090332   228.250000   467.679688   36.690430  156.849609  \n",
      "\n",
      "[5033 rows x 10 columns]\n"
     ]
    }
   ],
   "source": [
    "# EU Stock Market has already opened\n",
    "for ticker in US_EU_market_dict.keys():\n",
    "        data = US_EU_market_dict[ticker]\n",
    "        # Current Day Open Price - Previous Day Open Price\n",
    "        temp = (data['Open'] - data['Open'].shift(1)).reset_index()\n",
    "        temp.rename(columns={'Open':ticker}, inplace=True)\n",
    "        final_df = final_df.merge(temp, on='Date', how='left')\n",
    "\n",
    "print(final_df)"
   ]
  },
  {
   "cell_type": "markdown",
   "metadata": {},
   "source": [
    "#### Add Asian Stock Market Price Changes to final_df\n",
    "Close Price - Open Price"
   ]
  },
  {
   "cell_type": "code",
   "execution_count": 75,
   "metadata": {},
   "outputs": [
    {
     "name": "stdout",
     "output_type": "stream",
     "text": [
      "           Date  ^GSPC_change   ^GSPC_lag        Close        Price  \\\n",
      "0    2004-08-12    -12.560059         NaN  1063.229980  1075.790039   \n",
      "1    2004-08-13      1.570068  -12.560059  1064.800049  1063.229980   \n",
      "2    2004-08-16     14.539917    1.570068  1079.339966  1064.800049   \n",
      "3    2004-08-17      2.369995   14.539917  1081.709961  1079.339966   \n",
      "4    2004-08-18     13.460083    2.369995  1095.170044  1081.709961   \n",
      "...         ...           ...         ...          ...          ...   \n",
      "5028 2024-08-05     55.279785 -225.489746  5186.330078  5151.140137   \n",
      "5029 2024-08-06     86.709961   55.279785  5240.029785  5206.419922   \n",
      "5030 2024-08-07    -40.560059   86.709961  5199.500000  5293.129883   \n",
      "5031 2024-08-08     62.090332  -40.560059  5319.310059  5252.569824   \n",
      "5032 2024-08-09           NaN   62.090332  5344.160156  5314.660156   \n",
      "\n",
      "           ^GSPC        ^IXIC         ^DJI       ^FCHI      ^GDAXI  \\\n",
      "0            NaN          NaN          NaN         NaN         NaN   \n",
      "1     -12.560059    -8.220093  -122.370117  -46.359863  -34.770020   \n",
      "2       1.570068    -2.880005    11.239258    3.310059   -5.809814   \n",
      "3      14.539917    32.680054   130.150391   42.409912   53.129883   \n",
      "4       2.369995    -4.599976     8.719727   15.120117    8.590088   \n",
      "...          ...          ...          ...         ...         ...   \n",
      "5028 -225.489746 -1067.918945 -1019.136719 -231.010254 -359.269531   \n",
      "5029   55.279785   548.830078  -319.972656   60.479980 -103.019531   \n",
      "5030   86.709961   360.950195   493.871094    1.870117   16.080078   \n",
      "5031  -40.560059  -214.041016  -289.710938   61.069824   77.400391   \n",
      "5032   62.090332   228.250000   467.679688   36.690430  156.849609   \n",
      "\n",
      "           ^AORD        ^HSI        ^N225       ^NSEI  \n",
      "0     -22.199951   71.109375    22.940430         NaN  \n",
      "1      -6.399902   12.469727  -144.359375         NaN  \n",
      "2     -10.500000 -101.019531   -41.170898         NaN  \n",
      "3       8.399902  -22.570312   -46.270508         NaN  \n",
      "4      -7.399902   19.020508    49.439453         NaN  \n",
      "...          ...         ...          ...         ...  \n",
      "5028 -311.000000   21.539062 -3790.939453 -247.250000  \n",
      "5029   30.700195 -213.960938  2598.130859 -197.298828  \n",
      "5030   23.000000  193.080078   967.269531    8.099609  \n",
      "5031  -26.600098  118.791016   185.359375 -131.550781  \n",
      "5032  104.200195   -7.128906  -247.339844  -19.349609  \n",
      "\n",
      "[5033 rows x 14 columns]\n"
     ]
    }
   ],
   "source": [
    "# Asian Stock Market has already closed; one day ahead of US Stock Market\n",
    "for ticker in asia_market_dict.keys():\n",
    "        data = asia_market_dict[ticker]\n",
    "        # Close Price - Open Price\n",
    "        temp = (data['Close'] - data['Open']).reset_index()\n",
    "        temp.rename(columns={0:ticker}, inplace=True)\n",
    "        final_df = final_df.merge(temp, on='Date', how='left')\n",
    "\n",
    "print(final_df)"
   ]
  },
  {
   "cell_type": "code",
   "execution_count": 77,
   "metadata": {},
   "outputs": [],
   "source": [
    "# Different markets has different holidays\n",
    "# Forward fill null values\n",
    "final_df.ffill(inplace=True)\n",
    "final_df.dropna(inplace=True)\n",
    "# final_df.isna().sum()"
   ]
  }
 ],
 "metadata": {
  "kernelspec": {
   "display_name": "Python 3",
   "language": "python",
   "name": "python3"
  },
  "language_info": {
   "codemirror_mode": {
    "name": "ipython",
    "version": 3
   },
   "file_extension": ".py",
   "mimetype": "text/x-python",
   "name": "python",
   "nbconvert_exporter": "python",
   "pygments_lexer": "ipython3",
   "version": "3.12.2"
  }
 },
 "nbformat": 4,
 "nbformat_minor": 2
}
