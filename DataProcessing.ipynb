{
 "cells": [
  {
   "cell_type": "code",
   "execution_count": 40,
   "metadata": {},
   "outputs": [
    {
     "name": "stdout",
     "output_type": "stream",
     "text": [
      "2024-08-14 03:22:31.307472\n",
      "2004-08-14 03:22:31.307472\n"
     ]
    },
    {
     "name": "stderr",
     "output_type": "stream",
     "text": [
      "[*********************100%%**********************]  1 of 1 completed\n",
      "[*********************100%%**********************]  1 of 1 completed\n",
      "[*********************100%%**********************]  1 of 1 completed\n",
      "[*********************100%%**********************]  1 of 1 completed\n",
      "[*********************100%%**********************]  1 of 1 completed\n",
      "[*********************100%%**********************]  1 of 1 completed\n",
      "[*********************100%%**********************]  1 of 1 completed\n",
      "[*********************100%%**********************]  1 of 1 completed\n",
      "[*********************100%%**********************]  1 of 1 completed\n"
     ]
    }
   ],
   "source": [
    "%run SetUpParams.ipynb"
   ]
  },
  {
   "cell_type": "code",
   "execution_count": 41,
   "metadata": {},
   "outputs": [],
   "source": [
    "import pandas as pd\n",
    "from sklearn.preprocessing import StandardScaler \n",
    "import torch "
   ]
  },
  {
   "cell_type": "markdown",
   "metadata": {},
   "source": [
    "### Create dataframe to feed into model"
   ]
  },
  {
   "cell_type": "code",
   "execution_count": 42,
   "metadata": {},
   "outputs": [
    {
     "name": "stdout",
     "output_type": "stream",
     "text": [
      "           Date  ^GSPC_change  ^GSPC_lag\n",
      "0    2004-08-16     14.539917        NaN\n",
      "1    2004-08-17      2.369995  14.539917\n",
      "2    2004-08-18     13.460083   2.369995\n",
      "3    2004-08-19     -3.940063  13.460083\n",
      "4    2004-08-20      7.119995  -3.940063\n",
      "...         ...           ...        ...\n",
      "5028 2024-08-07    -40.560059  86.709961\n",
      "5029 2024-08-08     62.090332 -40.560059\n",
      "5030 2024-08-09     37.219727  62.090332\n",
      "5031 2024-08-12     25.100098  37.219727\n",
      "5032 2024-08-13           NaN  25.100098\n",
      "\n",
      "[5033 rows x 3 columns]\n"
     ]
    }
   ],
   "source": [
    "final_df = pd.DataFrame()\n",
    "# Next Day Open Price - Current Day Open Price\n",
    "final_df[f'{target_stock}_change'] = target_stock_data['Open'].shift(-1) - target_stock_data['Open']\n",
    "final_df[f'{target_stock}_lag'] = final_df[f'{target_stock}_change'].shift(1)\n",
    "final_df.reset_index(inplace=True)\n",
    "print(final_df)"
   ]
  },
  {
   "cell_type": "markdown",
   "metadata": {},
   "source": [
    "#### Add European and US Stock Market Price Changes to final_df\n",
    "Current Day Open Price - Previous Day Open Price"
   ]
  },
  {
   "cell_type": "code",
   "execution_count": 43,
   "metadata": {},
   "outputs": [
    {
     "name": "stdout",
     "output_type": "stream",
     "text": [
      "           Date  ^GSPC_change  ^GSPC_lag       ^IXIC        ^DJI      ^FCHI  \\\n",
      "0    2004-08-16     14.539917        NaN         NaN         NaN        NaN   \n",
      "1    2004-08-17      2.369995  14.539917   32.680054  130.150391  42.409912   \n",
      "2    2004-08-18     13.460083   2.369995   -4.599976    8.719727  15.120117   \n",
      "3    2004-08-19     -3.940063  13.460083   38.250000  118.560547  29.449951   \n",
      "4    2004-08-20      7.119995  -3.940063   -6.369995  -41.970703 -11.910156   \n",
      "...         ...           ...        ...         ...         ...        ...   \n",
      "5028 2024-08-07    -40.560059  86.709961  360.950195  493.871094   1.870117   \n",
      "5029 2024-08-08     62.090332 -40.560059 -214.041016 -289.710938  61.069824   \n",
      "5030 2024-08-09     37.219727  62.090332  228.250000  467.679688  36.690430   \n",
      "5031 2024-08-12     25.100098  37.219727  157.121094  147.953125  37.139648   \n",
      "5032 2024-08-13           NaN  25.100098  151.058594 -110.710938 -19.139648   \n",
      "\n",
      "          ^GDAXI  \n",
      "0            NaN  \n",
      "1      53.129883  \n",
      "2       8.590088  \n",
      "3      25.070068  \n",
      "4     -13.270020  \n",
      "...          ...  \n",
      "5028   16.080078  \n",
      "5029   77.400391  \n",
      "5030  156.849609  \n",
      "5031  111.128906  \n",
      "5032   15.630859  \n",
      "\n",
      "[5033 rows x 7 columns]\n"
     ]
    }
   ],
   "source": [
    "# EU Stock Market has already opened\n",
    "for ticker in US_EU_market_dict.keys():\n",
    "        data = US_EU_market_dict[ticker]\n",
    "        # Current Day Open Price - Previous Day Open Price\n",
    "        temp = (data['Open'] - data['Open'].shift(1)).reset_index()\n",
    "        temp.rename(columns={'Open':ticker}, inplace=True)\n",
    "        final_df = final_df.merge(temp, on='Date', how='left')\n",
    "\n",
    "print(final_df)"
   ]
  },
  {
   "cell_type": "markdown",
   "metadata": {},
   "source": [
    "#### Add Asian Stock Market Price Changes to final_df\n",
    "Close Price - Open Price"
   ]
  },
  {
   "cell_type": "code",
   "execution_count": 44,
   "metadata": {},
   "outputs": [
    {
     "name": "stdout",
     "output_type": "stream",
     "text": [
      "           Date  ^GSPC_change  ^GSPC_lag       ^IXIC        ^DJI      ^FCHI  \\\n",
      "0    2004-08-16     14.539917        NaN         NaN         NaN        NaN   \n",
      "1    2004-08-17      2.369995  14.539917   32.680054  130.150391  42.409912   \n",
      "2    2004-08-18     13.460083   2.369995   -4.599976    8.719727  15.120117   \n",
      "3    2004-08-19     -3.940063  13.460083   38.250000  118.560547  29.449951   \n",
      "4    2004-08-20      7.119995  -3.940063   -6.369995  -41.970703 -11.910156   \n",
      "...         ...           ...        ...         ...         ...        ...   \n",
      "5028 2024-08-07    -40.560059  86.709961  360.950195  493.871094   1.870117   \n",
      "5029 2024-08-08     62.090332 -40.560059 -214.041016 -289.710938  61.069824   \n",
      "5030 2024-08-09     37.219727  62.090332  228.250000  467.679688  36.690430   \n",
      "5031 2024-08-12     25.100098  37.219727  157.121094  147.953125  37.139648   \n",
      "5032 2024-08-13           NaN  25.100098  151.058594 -110.710938 -19.139648   \n",
      "\n",
      "          ^GDAXI       ^AORD        ^HSI       ^N225       ^NSEI  \n",
      "0            NaN  -10.500000 -101.019531  -41.170898         NaN  \n",
      "1      53.129883    8.399902  -22.570312  -46.270508         NaN  \n",
      "2       8.590088   -7.399902   19.020508   49.439453         NaN  \n",
      "3      25.070068    8.000000  100.089844   41.610352         NaN  \n",
      "4     -13.270020    5.699951   18.340820   30.059570         NaN  \n",
      "...          ...         ...         ...         ...         ...  \n",
      "5028   16.080078   23.000000  193.080078  967.269531    8.099609  \n",
      "5029   77.400391  -26.600098  118.791016  185.359375 -131.550781  \n",
      "5030  156.849609  104.200195   -7.128906 -247.339844  -19.349609  \n",
      "5031  111.128906   37.799805    8.669922         NaN   26.949219  \n",
      "5032   15.630859   13.700195   13.849609  741.933594 -203.349609  \n",
      "\n",
      "[5033 rows x 11 columns]\n"
     ]
    }
   ],
   "source": [
    "# Asian Stock Market has already closed; one day ahead of US Stock Market\n",
    "for ticker in asia_market_dict.keys():\n",
    "        data = asia_market_dict[ticker]\n",
    "        # Close Price - Open Price\n",
    "        temp = (data['Close'] - data['Open']).reset_index()\n",
    "        temp.rename(columns={0:ticker}, inplace=True)\n",
    "        final_df = final_df.merge(temp, on='Date', how='left')\n",
    "\n",
    "print(final_df)"
   ]
  },
  {
   "cell_type": "code",
   "execution_count": 45,
   "metadata": {},
   "outputs": [
    {
     "data": {
      "text/html": [
       "<div>\n",
       "<style scoped>\n",
       "    .dataframe tbody tr th:only-of-type {\n",
       "        vertical-align: middle;\n",
       "    }\n",
       "\n",
       "    .dataframe tbody tr th {\n",
       "        vertical-align: top;\n",
       "    }\n",
       "\n",
       "    .dataframe thead th {\n",
       "        text-align: right;\n",
       "    }\n",
       "</style>\n",
       "<table border=\"1\" class=\"dataframe\">\n",
       "  <thead>\n",
       "    <tr style=\"text-align: right;\">\n",
       "      <th></th>\n",
       "      <th>Date</th>\n",
       "      <th>^GSPC_change</th>\n",
       "      <th>^GSPC_lag</th>\n",
       "      <th>^IXIC</th>\n",
       "      <th>^DJI</th>\n",
       "      <th>^FCHI</th>\n",
       "      <th>^GDAXI</th>\n",
       "      <th>^AORD</th>\n",
       "      <th>^HSI</th>\n",
       "      <th>^N225</th>\n",
       "      <th>^NSEI</th>\n",
       "    </tr>\n",
       "  </thead>\n",
       "  <tbody>\n",
       "    <tr>\n",
       "      <th>0</th>\n",
       "      <td>2007-09-17</td>\n",
       "      <td>-7.609985</td>\n",
       "      <td>0.290039</td>\n",
       "      <td>11.890137</td>\n",
       "      <td>20.560547</td>\n",
       "      <td>-16.479980</td>\n",
       "      <td>-17.530273</td>\n",
       "      <td>-23.299805</td>\n",
       "      <td>-378.080078</td>\n",
       "      <td>232.370117</td>\n",
       "      <td>-23.800293</td>\n",
       "    </tr>\n",
       "    <tr>\n",
       "      <th>1</th>\n",
       "      <td>2007-09-18</td>\n",
       "      <td>43.119995</td>\n",
       "      <td>-7.609985</td>\n",
       "      <td>-1.080078</td>\n",
       "      <td>-38.770508</td>\n",
       "      <td>-104.929688</td>\n",
       "      <td>-37.049805</td>\n",
       "      <td>-66.500000</td>\n",
       "      <td>73.019531</td>\n",
       "      <td>-235.690430</td>\n",
       "      <td>52.100098</td>\n",
       "    </tr>\n",
       "    <tr>\n",
       "      <th>2</th>\n",
       "      <td>2007-09-19</td>\n",
       "      <td>8.939941</td>\n",
       "      <td>43.119995</td>\n",
       "      <td>72.929932</td>\n",
       "      <td>337.430664</td>\n",
       "      <td>264.319824</td>\n",
       "      <td>169.069824</td>\n",
       "      <td>113.100098</td>\n",
       "      <td>43.281250</td>\n",
       "      <td>343.419922</td>\n",
       "      <td>182.100098</td>\n",
       "    </tr>\n",
       "    <tr>\n",
       "      <th>3</th>\n",
       "      <td>2007-09-20</td>\n",
       "      <td>-9.939941</td>\n",
       "      <td>8.939941</td>\n",
       "      <td>-6.309814</td>\n",
       "      <td>72.909180</td>\n",
       "      <td>2.810059</td>\n",
       "      <td>99.669922</td>\n",
       "      <td>14.299805</td>\n",
       "      <td>62.820312</td>\n",
       "      <td>-60.871094</td>\n",
       "      <td>12.699707</td>\n",
       "    </tr>\n",
       "    <tr>\n",
       "      <th>4</th>\n",
       "      <td>2007-09-21</td>\n",
       "      <td>7.000000</td>\n",
       "      <td>-9.939941</td>\n",
       "      <td>11.169922</td>\n",
       "      <td>-45.189453</td>\n",
       "      <td>-18.060059</td>\n",
       "      <td>-5.809570</td>\n",
       "      <td>-22.099609</td>\n",
       "      <td>183.818359</td>\n",
       "      <td>28.180664</td>\n",
       "      <td>84.599609</td>\n",
       "    </tr>\n",
       "    <tr>\n",
       "      <th>...</th>\n",
       "      <td>...</td>\n",
       "      <td>...</td>\n",
       "      <td>...</td>\n",
       "      <td>...</td>\n",
       "      <td>...</td>\n",
       "      <td>...</td>\n",
       "      <td>...</td>\n",
       "      <td>...</td>\n",
       "      <td>...</td>\n",
       "      <td>...</td>\n",
       "      <td>...</td>\n",
       "    </tr>\n",
       "    <tr>\n",
       "      <th>4251</th>\n",
       "      <td>2024-08-07</td>\n",
       "      <td>-40.560059</td>\n",
       "      <td>86.709961</td>\n",
       "      <td>360.950195</td>\n",
       "      <td>493.871094</td>\n",
       "      <td>1.870117</td>\n",
       "      <td>16.080078</td>\n",
       "      <td>23.000000</td>\n",
       "      <td>193.080078</td>\n",
       "      <td>967.269531</td>\n",
       "      <td>8.099609</td>\n",
       "    </tr>\n",
       "    <tr>\n",
       "      <th>4252</th>\n",
       "      <td>2024-08-08</td>\n",
       "      <td>62.090332</td>\n",
       "      <td>-40.560059</td>\n",
       "      <td>-214.041016</td>\n",
       "      <td>-289.710938</td>\n",
       "      <td>61.069824</td>\n",
       "      <td>77.400391</td>\n",
       "      <td>-26.600098</td>\n",
       "      <td>118.791016</td>\n",
       "      <td>185.359375</td>\n",
       "      <td>-131.550781</td>\n",
       "    </tr>\n",
       "    <tr>\n",
       "      <th>4253</th>\n",
       "      <td>2024-08-09</td>\n",
       "      <td>37.219727</td>\n",
       "      <td>62.090332</td>\n",
       "      <td>228.250000</td>\n",
       "      <td>467.679688</td>\n",
       "      <td>36.690430</td>\n",
       "      <td>156.849609</td>\n",
       "      <td>104.200195</td>\n",
       "      <td>-7.128906</td>\n",
       "      <td>-247.339844</td>\n",
       "      <td>-19.349609</td>\n",
       "    </tr>\n",
       "    <tr>\n",
       "      <th>4254</th>\n",
       "      <td>2024-08-12</td>\n",
       "      <td>25.100098</td>\n",
       "      <td>37.219727</td>\n",
       "      <td>157.121094</td>\n",
       "      <td>147.953125</td>\n",
       "      <td>37.139648</td>\n",
       "      <td>111.128906</td>\n",
       "      <td>37.799805</td>\n",
       "      <td>8.669922</td>\n",
       "      <td>-247.339844</td>\n",
       "      <td>26.949219</td>\n",
       "    </tr>\n",
       "    <tr>\n",
       "      <th>4255</th>\n",
       "      <td>2024-08-13</td>\n",
       "      <td>25.100098</td>\n",
       "      <td>25.100098</td>\n",
       "      <td>151.058594</td>\n",
       "      <td>-110.710938</td>\n",
       "      <td>-19.139648</td>\n",
       "      <td>15.630859</td>\n",
       "      <td>13.700195</td>\n",
       "      <td>13.849609</td>\n",
       "      <td>741.933594</td>\n",
       "      <td>-203.349609</td>\n",
       "    </tr>\n",
       "  </tbody>\n",
       "</table>\n",
       "<p>4256 rows × 11 columns</p>\n",
       "</div>"
      ],
      "text/plain": [
       "           Date  ^GSPC_change  ^GSPC_lag       ^IXIC        ^DJI       ^FCHI  \\\n",
       "0    2007-09-17     -7.609985   0.290039   11.890137   20.560547  -16.479980   \n",
       "1    2007-09-18     43.119995  -7.609985   -1.080078  -38.770508 -104.929688   \n",
       "2    2007-09-19      8.939941  43.119995   72.929932  337.430664  264.319824   \n",
       "3    2007-09-20     -9.939941   8.939941   -6.309814   72.909180    2.810059   \n",
       "4    2007-09-21      7.000000  -9.939941   11.169922  -45.189453  -18.060059   \n",
       "...         ...           ...        ...         ...         ...         ...   \n",
       "4251 2024-08-07    -40.560059  86.709961  360.950195  493.871094    1.870117   \n",
       "4252 2024-08-08     62.090332 -40.560059 -214.041016 -289.710938   61.069824   \n",
       "4253 2024-08-09     37.219727  62.090332  228.250000  467.679688   36.690430   \n",
       "4254 2024-08-12     25.100098  37.219727  157.121094  147.953125   37.139648   \n",
       "4255 2024-08-13     25.100098  25.100098  151.058594 -110.710938  -19.139648   \n",
       "\n",
       "          ^GDAXI       ^AORD        ^HSI       ^N225       ^NSEI  \n",
       "0     -17.530273  -23.299805 -378.080078  232.370117  -23.800293  \n",
       "1     -37.049805  -66.500000   73.019531 -235.690430   52.100098  \n",
       "2     169.069824  113.100098   43.281250  343.419922  182.100098  \n",
       "3      99.669922   14.299805   62.820312  -60.871094   12.699707  \n",
       "4      -5.809570  -22.099609  183.818359   28.180664   84.599609  \n",
       "...          ...         ...         ...         ...         ...  \n",
       "4251   16.080078   23.000000  193.080078  967.269531    8.099609  \n",
       "4252   77.400391  -26.600098  118.791016  185.359375 -131.550781  \n",
       "4253  156.849609  104.200195   -7.128906 -247.339844  -19.349609  \n",
       "4254  111.128906   37.799805    8.669922 -247.339844   26.949219  \n",
       "4255   15.630859   13.700195   13.849609  741.933594 -203.349609  \n",
       "\n",
       "[4256 rows x 11 columns]"
      ]
     },
     "execution_count": 45,
     "metadata": {},
     "output_type": "execute_result"
    }
   ],
   "source": [
    "# Different markets has different holidays\n",
    "# Forward fill null values\n",
    "final_df.ffill(inplace=True)\n",
    "final_df.dropna(inplace=True, ignore_index=True)\n",
    "# final_df.isna().sum()\n",
    "final_df"
   ]
  },
  {
   "cell_type": "markdown",
   "metadata": {},
   "source": [
    "### Prepare Sequences"
   ]
  },
  {
   "cell_type": "code",
   "execution_count": 46,
   "metadata": {},
   "outputs": [],
   "source": [
    "input_df = final_df.copy().drop(columns=[f'{target_stock}_change', 'Date'])"
   ]
  },
  {
   "cell_type": "code",
   "execution_count": 47,
   "metadata": {},
   "outputs": [
    {
     "name": "stdout",
     "output_type": "stream",
     "text": [
      "(3405, 9)\n",
      "(791, 9)\n",
      "(3405, 1)\n",
      "(791, 1)\n"
     ]
    }
   ],
   "source": [
    "# Train-Test Split\n",
    "proportion_test = 0.8\n",
    "gap = 60\n",
    "\n",
    "output_df = final_df[f'{target_stock}_change'].to_frame()\n",
    "\n",
    "train_index = round(len(input_df) * proportion_test)\n",
    "test_index = train_index + gap\n",
    "\n",
    "X_train = input_df.iloc[:train_index]\n",
    "X_test = input_df.iloc[test_index:]\n",
    "\n",
    "y_train = output_df.iloc[:train_index]\n",
    "y_test = output_df.iloc[test_index:]\n",
    "\n",
    "print(X_train.shape)\n",
    "print(X_test.shape)\n",
    "print(y_train.shape)\n",
    "print(y_test.shape)"
   ]
  },
  {
   "cell_type": "code",
   "execution_count": 48,
   "metadata": {},
   "outputs": [
    {
     "name": "stdout",
     "output_type": "stream",
     "text": [
      "      ^GSPC_lag     ^IXIC      ^DJI     ^FCHI    ^GDAXI     ^AORD      ^HSI  \\\n",
      "0     -0.019581  0.120865  0.078409 -0.279266 -0.161959 -0.449733 -1.572165   \n",
      "1     -0.393729 -0.055747 -0.231680 -1.760943 -0.324729 -1.267039  0.373712   \n",
      "2      2.008860  0.952030  1.734508  4.424591  1.394071  2.130819  0.245432   \n",
      "3      0.390081 -0.126959  0.352005  0.043874  0.815356  0.261614  0.329717   \n",
      "4     -0.504077  0.111058 -0.265229 -0.305735 -0.064222 -0.427027  0.851658   \n",
      "...         ...       ...       ...       ...       ...       ...       ...   \n",
      "3400  -1.944786 -3.163361 -0.393858 -0.925881  0.180520 -0.841361 -0.663977   \n",
      "3401   0.124870  2.122390 -1.369832 -1.012984 -1.233997  0.660808  0.422156   \n",
      "3402   0.966939  1.356713  0.439655 -0.297023  0.241897 -0.167842 -2.143974   \n",
      "3403  -0.870183 -1.296362 -1.182099 -0.701238 -0.336741  0.507562 -2.181549   \n",
      "3404  -1.955667 -6.095872 -0.677494  0.154265  0.041097  0.155675  1.230010   \n",
      "\n",
      "         ^N225     ^NSEI  \n",
      "0     1.468325 -0.223783  \n",
      "1    -1.444958  0.703766  \n",
      "2     2.159516  2.292445  \n",
      "3    -0.356855  0.222269  \n",
      "4     0.197418  1.100929  \n",
      "...        ...       ...  \n",
      "3400 -0.678323  3.401459  \n",
      "3401 -1.658190  0.068300  \n",
      "3402 -2.377834  0.631665  \n",
      "3403 -2.218875 -1.925497  \n",
      "3404  1.718416 -2.939199  \n",
      "\n",
      "[3405 rows x 9 columns]\n",
      "     ^GSPC_lag     ^IXIC      ^DJI     ^FCHI    ^GDAXI     ^AORD      ^HSI  \\\n",
      "0     1.134072  0.442819  1.889227  1.137130  1.217611  1.733045 -1.081862   \n",
      "1     0.528108  0.616579  0.233196  0.086834  0.533131 -0.644126  1.548598   \n",
      "2     0.141019  0.458151 -0.076503 -0.549925 -0.922986 -0.201114  0.127526   \n",
      "3     0.364229  0.202488  1.320830  0.823656  0.342715  0.641570  1.277602   \n",
      "4     0.203773  0.067723  0.315294 -0.348862 -0.098436 -0.090363 -0.365776   \n",
      "..         ...       ...       ...       ...       ...       ...       ...   \n",
      "786   1.944314  1.814224  1.661532  0.021293  0.090549  0.376726  0.881594   \n",
      "787  -0.960459 -1.105451 -1.016724  0.816396  0.474524 -0.419411  0.563449   \n",
      "788   1.382403  1.140403  1.572011  0.488960  0.972019  1.680080  0.024193   \n",
      "789   0.814763  0.779226  0.479196  0.494993  0.685725  0.614280  0.091852   \n",
      "790   0.538149  0.748442 -0.404908 -0.260886  0.087736  0.227454  0.114034   \n",
      "\n",
      "        ^N225     ^NSEI  \n",
      "0    1.244121 -0.445176  \n",
      "1   -0.056003 -1.245727  \n",
      "2    0.200022  0.450173  \n",
      "3   -0.256548  0.212077  \n",
      "4   -0.234555 -0.688819  \n",
      "..        ...       ...  \n",
      "786  3.267525  0.116541  \n",
      "787  0.613891 -0.917665  \n",
      "788 -0.854596 -0.086739  \n",
      "789 -0.854596  0.256135  \n",
      "790  2.502784 -1.449384  \n",
      "\n",
      "[791 rows x 9 columns]\n"
     ]
    }
   ],
   "source": [
    "# Scaling inputs using Normalisation\n",
    "scaler = StandardScaler()\n",
    "X_scaled_train_temp = scaler.fit_transform(X_train)\n",
    "X_scaled_train = pd.DataFrame(X_scaled_train_temp, columns = input_df.columns)\n",
    "\n",
    "X_scaled_test_temp = scaler.fit_transform(X_test)\n",
    "X_scaled_test = pd.DataFrame(X_scaled_test_temp, columns = input_df.columns)\n",
    "print(X_scaled_train)\n",
    "print(X_scaled_test)"
   ]
  },
  {
   "cell_type": "code",
   "execution_count": 49,
   "metadata": {},
   "outputs": [],
   "source": [
    "def create_sequences(X_data, y_data, time_step = 10):\n",
    "    X, y = [], []\n",
    "    for i in range(len(X_data) - time_step):\n",
    "        X.append(X_data.iloc[i:i + time_step, :].values)\n",
    "        y.append(y_data.iloc[i+1: i + time_step + 1, :].values)\n",
    "    return torch.tensor(X), torch.tensor(y)"
   ]
  },
  {
   "cell_type": "code",
   "execution_count": 50,
   "metadata": {},
   "outputs": [],
   "source": [
    "X_train_seq, y_train_seq = create_sequences(X_scaled_train, y_train)\n",
    "X_test_seq, y_test_seq = create_sequences(X_scaled_test, y_test)"
   ]
  },
  {
   "cell_type": "code",
   "execution_count": 51,
   "metadata": {},
   "outputs": [
    {
     "name": "stdout",
     "output_type": "stream",
     "text": [
      "torch.Size([3395, 10, 9])\n",
      "torch.Size([3395, 10, 1])\n",
      "torch.Size([781, 10, 9])\n",
      "torch.Size([781, 10, 1])\n"
     ]
    }
   ],
   "source": [
    "# Shape of Tensor = (Number of Sequences, Time Steps, Number of Features)\n",
    "print(X_train_seq.shape)\n",
    "print(y_train_seq.shape)\n",
    "print(X_test_seq.shape)\n",
    "print(y_test_seq.shape)"
   ]
  }
 ],
 "metadata": {
  "kernelspec": {
   "display_name": "Python 3",
   "language": "python",
   "name": "python3"
  },
  "language_info": {
   "codemirror_mode": {
    "name": "ipython",
    "version": 3
   },
   "file_extension": ".py",
   "mimetype": "text/x-python",
   "name": "python",
   "nbconvert_exporter": "python",
   "pygments_lexer": "ipython3",
   "version": "3.12.2"
  }
 },
 "nbformat": 4,
 "nbformat_minor": 2
}
