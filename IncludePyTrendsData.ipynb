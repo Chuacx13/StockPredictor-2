{
 "cells": [
  {
   "cell_type": "markdown",
   "metadata": {},
   "source": [
    "#### Get Relative Interest Over Time\n",
    "Keywords: bullish and bearish"
   ]
  },
  {
   "cell_type": "code",
   "execution_count": 1,
   "metadata": {},
   "outputs": [],
   "source": [
    "from pytrends.request import TrendReq\n",
    "\n",
    "pytrends = TrendReq(hl='en-US', tz=240)\n",
    "\n",
    "keywords = [\"bullish\", \"bearish\"]\n",
    "timeframe = \"2004-08-18 2024-08-16\"\n",
    "\n",
    "pytrends.build_payload(keywords, cat=0, timeframe=timeframe, geo='', gprop='')\n",
    "\n",
    "# Relative Interest between both keywords used over time\n",
    "pytrends_data = pytrends.interest_over_time()\n",
    "\n",
    "if 'isPartial' in pytrends_data.columns:\n",
    "    pytrends_data = pytrends_data.drop(columns=['isPartial'])\n",
    "\n",
    "pytrends_data = pytrends_data.reset_index()\n",
    "pytrends_data.rename(columns={'date': 'Date'}, inplace=True)\n",
    "pytrends_data['Month'] = pytrends_data['Date'].dt.month\n",
    "pytrends_data['Year'] = pytrends_data['Date'].dt.year\n",
    "\n",
    "pytrends_data['Bullish_vs_Bearish_Diff'] = pytrends_data['bullish'] - pytrends_data['bearish']\n",
    "pytrends_data = pytrends_data[['Month', 'Year', 'Bullish_vs_Bearish_Diff']]"
   ]
  }
 ],
 "metadata": {
  "kernelspec": {
   "display_name": "Python 3",
   "language": "python",
   "name": "python3"
  },
  "language_info": {
   "codemirror_mode": {
    "name": "ipython",
    "version": 3
   },
   "file_extension": ".py",
   "mimetype": "text/x-python",
   "name": "python",
   "nbconvert_exporter": "python",
   "pygments_lexer": "ipython3",
   "version": "3.12.2"
  }
 },
 "nbformat": 4,
 "nbformat_minor": 2
}
